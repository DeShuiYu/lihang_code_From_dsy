{
 "cells": [
  {
   "cell_type": "markdown",
   "metadata": {},
   "source": [
    "## K近邻\n",
    "***\n",
    "***\n",
    "Time: 2020-09-10<br>\n",
    "Author: dsy\n",
    "***"
   ]
  },
  {
   "cell_type": "code",
   "execution_count": 1,
   "metadata": {},
   "outputs": [],
   "source": [
    "import numpy as np"
   ]
  },
  {
   "cell_type": "code",
   "execution_count": 2,
   "metadata": {},
   "outputs": [],
   "source": [
    "def KNN(xi,x,y,k=3):\n",
    "    MAXLABEL = 20\n",
    "    def dist(xi1,xi2,p):\n",
    "        return np.power(np.sum(np.power((xi1- xi2),p)),1./p)\n",
    "    distList = np.array( [dist(xi,xj,2) for xj in x])\n",
    "    topKList = np.argsort(distList)[:k]\n",
    "    labelList = np.zeros((MAXLABEL,))\n",
    "    for index in topKList:\n",
    "        labelList[int(y[index])] += 1\n",
    "    \n",
    "    return labelList.argmax()"
   ]
  }
 ],
 "metadata": {
  "kernelspec": {
   "display_name": "Python 3",
   "language": "python",
   "name": "python3"
  },
  "language_info": {
   "codemirror_mode": {
    "name": "ipython",
    "version": 3
   },
   "file_extension": ".py",
   "mimetype": "text/x-python",
   "name": "python",
   "nbconvert_exporter": "python",
   "pygments_lexer": "ipython3",
   "version": "3.7.2"
  }
 },
 "nbformat": 4,
 "nbformat_minor": 4
}
