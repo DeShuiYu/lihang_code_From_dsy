{
 "cells": [
  {
   "cell_type": "markdown",
   "metadata": {},
   "source": [
    "## 准确率、召回率、`f1`\n",
    "***\n",
    "***\n",
    "Time: 2020-09-20\n",
    "Author: dsy\n",
    "***"
   ]
  },
  {
   "cell_type": "code",
   "execution_count": 1,
   "metadata": {},
   "outputs": [],
   "source": [
    "import numpy as np\n",
    "from sklearn.metrics import accuracy_score"
   ]
  },
  {
   "cell_type": "markdown",
   "metadata": {},
   "source": [
    "### `sklearn`中精确率，召回率，`f1`打分**源码分析**"
   ]
  },
  {
   "cell_type": "code",
   "execution_count": null,
   "metadata": {},
   "outputs": [],
   "source": [
    "def multilabel_confusion_matrix(y_true, y_pred, *, sample_weight=None,\n",
    "                                labels=None, samplewise=False):\n",
    "    \n",
    "   \n",
    "    present_labels = [4,5,6]\n",
    "    labels = present_labels\n",
    "    n_labels = None\n",
    "\n",
    "   \n",
    "\n",
    "    le = LabelEncoder()\n",
    "    le.fit(labels)\n",
    "    y_true = le.transform(y_true)\n",
    "    y_pred = le.transform(y_pred)\n",
    "    sorted_labels = le.classes_\n",
    "\n",
    "    # labels are now from 0 to len(labels) - 1 -> use bincount\n",
    "    tp = y_true == y_pred\n",
    "    tp_bins = y_true[tp]\n",
    "\n",
    "    if len(tp_bins):\n",
    "        tp_sum = np.bincount(tp_bins, weights=None,\n",
    "                                minlength=len(labels))\n",
    "    if len(y_pred):\n",
    "        pred_sum = np.bincount(y_pred, weights=None,\n",
    "                                minlength=len(labels))\n",
    "    if len(y_true):\n",
    "        true_sum = np.bincount(y_true, weights=None,\n",
    "                                minlength=len(labels))\n",
    "\n",
    "    indices = np.searchsorted(sorted_labels, labels[:n_labels])\n",
    "    tp_sum = tp_sum[indices]\n",
    "    true_sum = true_sum[indices]\n",
    "    pred_sum = pred_sum[indices]\n",
    "\n",
    "    \n",
    "\n",
    "    fp = pred_sum - tp_sum\n",
    "    fn = true_sum - tp_sum\n",
    "    tp = tp_sum\n",
    "\n",
    "\n",
    "    tn = y_true.shape[0] - tp - fp - fn\n",
    "\n",
    "    return (fp,fn,tp,tn)"
   ]
  }
 ],
 "metadata": {
  "kernelspec": {
   "display_name": "Python 3",
   "language": "python",
   "name": "python3"
  },
  "language_info": {
   "codemirror_mode": {
    "name": "ipython",
    "version": 3
   },
   "file_extension": ".py",
   "mimetype": "text/x-python",
   "name": "python",
   "nbconvert_exporter": "python",
   "pygments_lexer": "ipython3",
   "version": "3.7.2"
  }
 },
 "nbformat": 4,
 "nbformat_minor": 4
}
