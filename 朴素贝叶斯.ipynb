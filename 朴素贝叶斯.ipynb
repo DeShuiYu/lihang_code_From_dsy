{
 "cells": [
  {
   "cell_type": "markdown",
   "metadata": {},
   "source": [
    "## 朴素贝叶斯\n",
    "***\n",
    "***\n",
    "Time: 2020-09-10<br>\n",
    "Author: dsy\n",
    "***"
   ]
  },
  {
   "cell_type": "code",
   "execution_count": 4,
   "metadata": {},
   "outputs": [],
   "source": [
    "import numpy  as np"
   ]
  },
  {
   "cell_type": "code",
   "execution_count": 79,
   "metadata": {},
   "outputs": [],
   "source": [
    "def NaiveBayes(xi,x,y):\n",
    "    \n",
    "    def Py(ck):\n",
    "        return np.sum(y == ck) / len(y)\n",
    "        \n",
    "    def Pxy(j,ajl,ck):\n",
    "        \n",
    "        IY = np.sum(y == ck)\n",
    "        IX = 0.\n",
    "        for i in range(len(x[:,j])):\n",
    "            if x[i,j] == ajl and y[i] == ck:\n",
    "                IX += 1\n",
    "\n",
    "        return IX / IY\n",
    "    \n",
    "\n",
    "    result = []\n",
    "    \n",
    "    for yi in np.unique(y):\n",
    "        prod = 1\n",
    "        for j in range(len(xi)):\n",
    "            prod *= Pxy(j,xi[j],yi)\n",
    "            \n",
    "        result.append([yi,prod])\n",
    "        \n",
    "    result = np.array(result)\n",
    "    return result[result[:,1].argmax(),0]"
   ]
  },
  {
   "cell_type": "code",
   "execution_count": 75,
   "metadata": {},
   "outputs": [],
   "source": [
    "dataX = np.array([\n",
    "    [1,4],\n",
    "    [1,5],\n",
    "    [1,5],\n",
    "    [1,4],\n",
    "    [1,4],\n",
    "    [2,4],\n",
    "    [2,5],\n",
    "    [2,5],\n",
    "    [2,6],\n",
    "    [2,6],\n",
    "    [3,6],\n",
    "    [3,5],\n",
    "    [3,5],\n",
    "    [3,6],\n",
    "    [3,6]\n",
    "])"
   ]
  },
  {
   "cell_type": "code",
   "execution_count": 73,
   "metadata": {},
   "outputs": [],
   "source": [
    "dataY = np.array([\n",
    "    -1,-1,1,1,-1,-1,-1,1,1,1,1,1,1,1,-1\n",
    "])"
   ]
  },
  {
   "cell_type": "code",
   "execution_count": 77,
   "metadata": {},
   "outputs": [
    {
     "data": {
      "text/plain": [
       "(15, 2)"
      ]
     },
     "execution_count": 77,
     "metadata": {},
     "output_type": "execute_result"
    }
   ],
   "source": [
    "dataX.shape"
   ]
  },
  {
   "cell_type": "code",
   "execution_count": 80,
   "metadata": {},
   "outputs": [
    {
     "data": {
      "text/plain": [
       "-1.0"
      ]
     },
     "execution_count": 80,
     "metadata": {},
     "output_type": "execute_result"
    }
   ],
   "source": [
    "NaiveBayes(np.array([2,4]),dataX,dataY)"
   ]
  }
 ],
 "metadata": {
  "kernelspec": {
   "display_name": "Python 3",
   "language": "python",
   "name": "python3"
  },
  "language_info": {
   "codemirror_mode": {
    "name": "ipython",
    "version": 3
   },
   "file_extension": ".py",
   "mimetype": "text/x-python",
   "name": "python",
   "nbconvert_exporter": "python",
   "pygments_lexer": "ipython3",
   "version": "3.7.2"
  }
 },
 "nbformat": 4,
 "nbformat_minor": 4
}
