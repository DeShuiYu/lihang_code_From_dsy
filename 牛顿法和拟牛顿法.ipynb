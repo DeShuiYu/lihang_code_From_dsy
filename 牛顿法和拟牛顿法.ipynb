{
 "cells": [
  {
   "cell_type": "markdown",
   "metadata": {},
   "source": [
    "## 牛顿法和拟牛顿法\n",
    "***\n",
    "***\n",
    "Time: 2020-09-11<br>\n",
    "Author: dsy\n",
    "***"
   ]
  },
  {
   "cell_type": "code",
   "execution_count": 1,
   "metadata": {},
   "outputs": [],
   "source": [
    "import numpy as np"
   ]
  },
  {
   "cell_type": "code",
   "execution_count": 2,
   "metadata": {},
   "outputs": [],
   "source": [
    "def f(x):\n",
    "    '''\n",
    "    f 函数\n",
    "    '''\n",
    "    return x ** 2 + 1\n",
    "def g(x):\n",
    "    '''\n",
    "    g 梯度函数\n",
    "    '''\n",
    "    return 2 * x\n",
    "\n",
    "def norm(x):\n",
    "    return np.linalg.norm(x,ord=2)\n",
    "\n",
    "def H(x):\n",
    "    '''\n",
    "    H 黑塞矩阵\n",
    "    在f=x1 ** 2 + x2 ** 2 + 1 下，黑塞矩阵值固定\n",
    "    '''\n",
    "    return np.array([[2,0],[0,2]])"
   ]
  },
  {
   "cell_type": "code",
   "execution_count": 3,
   "metadata": {},
   "outputs": [],
   "source": [
    "def newton(x0,g,e):\n",
    "    i = 0\n",
    "    xk = x0\n",
    "    gxk = g(xk)\n",
    "    while np.linalg.norm(gxk,ord=2) >= e:\n",
    "        hk = H(xk)\n",
    "        pk = np.linalg.inv(hk).dot(-gxk)\n",
    "        xk = xk + pk\n",
    "        gxk = g(xk)\n",
    "        if (1+i) % 10 == 0:\n",
    "            print(\"xk:\",xk)\n",
    "            \n",
    "        i += 1\n",
    "        \n",
    "    return xk"
   ]
  },
  {
   "cell_type": "code",
   "execution_count": 4,
   "metadata": {},
   "outputs": [],
   "source": [
    "def  DFP(x0,g,lr,e):\n",
    "    def G0():# 单位矩阵是正定矩阵\n",
    "        return np.identity(2)\n",
    "    \n",
    "    xk = x0\n",
    "    Gk = G0()\n",
    "    gxk = g(xk)\n",
    "    while np.linalg.norm(gxk,ord=2) >= e:\n",
    "        pk = -Gk.dot(gxk)\n",
    "        xk = xk + lr * pk\n",
    "        \n",
    "        yk = g(xk) - gxk\n",
    "        qk = lr * pk\n",
    "        \n",
    "        gxk = g(xk)\n",
    "        # B.24\n",
    "        Gk = Gk + np.divide( qk.dot(qk.T),qk.T.dot(yk)) \\\n",
    "            - np.divide(Gk.dot(yk).dot(yk.T).dot(Gk),yk.T.dot(Gk).dot(yk))\n",
    "        \n",
    "    return xk"
   ]
  },
  {
   "cell_type": "code",
   "execution_count": 5,
   "metadata": {},
   "outputs": [],
   "source": [
    "def BFGS(x0,g,lr,e):\n",
    "    def B0():\n",
    "        return np.identity(2)\n",
    "    xk = x0\n",
    "    Bk = B0()\n",
    "    gxk = g(xk)\n",
    "    \n",
    "    while np.linalg.norm(gxk,ord=2) >= e:\n",
    "        pk = np.linalg.inv(Bk).dot(-gxk)\n",
    "        xk = xk + lr * pk \n",
    "        \n",
    "        yk = g(xk) - gxk\n",
    "        qk = lr * pk\n",
    "        \n",
    "        # B.30\n",
    "        Bk = Bk + np.divide(yk.dot(yk.T),yk.T.dot(qk)) \\\n",
    "        - np.divide(Bk.dot(qk).dot(qk.T).dot(Bk),qk.T.dot(Bk).dot(qk))\n",
    "        gxk = g(xk)\n",
    "        \n",
    "    return xk"
   ]
  }
 ],
 "metadata": {
  "kernelspec": {
   "display_name": "Python 3",
   "language": "python",
   "name": "python3"
  },
  "language_info": {
   "codemirror_mode": {
    "name": "ipython",
    "version": 3
   },
   "file_extension": ".py",
   "mimetype": "text/x-python",
   "name": "python",
   "nbconvert_exporter": "python",
   "pygments_lexer": "ipython3",
   "version": "3.7.2"
  }
 },
 "nbformat": 4,
 "nbformat_minor": 4
}
