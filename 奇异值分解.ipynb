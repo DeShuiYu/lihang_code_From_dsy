{
 "cells": [
  {
   "cell_type": "markdown",
   "metadata": {},
   "source": [
    "## 奇异值分解\n",
    "***\n",
    "***\n",
    "Time: 2020-09-11<br>\n",
    "Author: dsy\n",
    "***"
   ]
  },
  {
   "cell_type": "code",
   "execution_count": 1,
   "metadata": {},
   "outputs": [],
   "source": [
    "import numpy as np"
   ]
  },
  {
   "cell_type": "code",
   "execution_count": 2,
   "metadata": {},
   "outputs": [],
   "source": [
    "A = np.array([\n",
    "    [1,0,0,0],\n",
    "    [0,0,0,4],\n",
    "    [0,3,0,0],\n",
    "    [0,0,0,0],\n",
    "    [2,0,0,0]\n",
    "])"
   ]
  },
  {
   "cell_type": "code",
   "execution_count": 3,
   "metadata": {},
   "outputs": [
    {
     "data": {
      "text/plain": [
       "(array([[ 0.        ,  0.        , -0.4472136 ,  0.        , -0.89442719],\n",
       "        [-1.        ,  0.        ,  0.        ,  0.        ,  0.        ],\n",
       "        [ 0.        , -1.        ,  0.        ,  0.        ,  0.        ],\n",
       "        [ 0.        ,  0.        ,  0.        ,  1.        ,  0.        ],\n",
       "        [ 0.        ,  0.        , -0.89442719,  0.        ,  0.4472136 ]]),\n",
       " array([ 4.        ,  3.        ,  2.23606798, -0.        ]),\n",
       " array([[-0., -0., -0., -1.],\n",
       "        [-0., -1., -0., -0.],\n",
       "        [-1., -0., -0., -0.],\n",
       "        [-0., -0., -1., -0.]]))"
      ]
     },
     "execution_count": 3,
     "metadata": {},
     "output_type": "execute_result"
    }
   ],
   "source": [
    "np.linalg.svd(A)"
   ]
  },
  {
   "cell_type": "code",
   "execution_count": null,
   "metadata": {},
   "outputs": [],
   "source": []
  }
 ],
 "metadata": {
  "kernelspec": {
   "display_name": "Python 3",
   "language": "python",
   "name": "python3"
  },
  "language_info": {
   "codemirror_mode": {
    "name": "ipython",
    "version": 3
   },
   "file_extension": ".py",
   "mimetype": "text/x-python",
   "name": "python",
   "nbconvert_exporter": "python",
   "pygments_lexer": "ipython3",
   "version": "3.7.2"
  }
 },
 "nbformat": 4,
 "nbformat_minor": 4
}
