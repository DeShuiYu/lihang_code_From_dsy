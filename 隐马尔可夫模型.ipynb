{
 "cells": [
  {
   "cell_type": "markdown",
   "metadata": {},
   "source": [
    "## 隐马尔可夫模型\n",
    "***\n",
    "***\n",
    "Time: 2020-09-12<br>\n",
    "Author: dsy\n",
    "***"
   ]
  },
  {
   "cell_type": "code",
   "execution_count": 1,
   "metadata": {},
   "outputs": [],
   "source": [
    "import numpy as np"
   ]
  },
  {
   "cell_type": "code",
   "execution_count": 2,
   "metadata": {},
   "outputs": [],
   "source": [
    "def forward(A,B,π,O):\n",
    "    alpha = np.array([π[i] * B[i][O[0]] for i in range(len(A))])\n",
    "    print(\"alpha:\",alpha)\n",
    "    for o in O[1:]:\n",
    "        alpha = [sum([alpha[k] * A[k][i] for k in range(len(A))]) * B[i][o] for i in range(len(A))]\n",
    "        print(\"alpha:\",alpha)\n",
    "        \n",
    "    return sum(alpha)"
   ]
  },
  {
   "cell_type": "code",
   "execution_count": 3,
   "metadata": {},
   "outputs": [],
   "source": [
    "def viterbi(A,B,π,O):\n",
    "    N = int(len(A))\n",
    "    T = int(len(O))\n",
    "    δ =[[π[i] * B[i][O[0]] for i in range(N)]]\n",
    "    ψ =[ [0.0 for i in range(N)]]\n",
    " \n",
    "    for t in range(1,T):\n",
    "        δt = []\n",
    "        ψt = []\n",
    "        for i in range(N):\n",
    "            δt.append(max([δ[t-1][j] * A[j][i] for j in range(N)]) * B[i][O[t]]) \n",
    "            ψt.append(np.argmax(np.array(\n",
    "                [δ[t-1][j] * A[j][i] for j in range(N)]\n",
    "            )))\n",
    "        δ.append(δt)\n",
    "        ψ.append(ψt)\n",
    "    δ = np.array(δ)\n",
    "    ψ = np.array(ψ)\n",
    "#     print(δ.shape,N,T)\n",
    "#     print(ψ.shape)\n",
    "#     print(\"δ:\\n\",δ)\n",
    "#     print(\"ψ:\\n\",ψ)   \n",
    "    # 最优路径选择\n",
    "#     print(\"δ[T-1]\",np.argmax(δ[T-1]))\n",
    "    I = np.zeros((T,))\n",
    "    I[T-1] = np.argmax(δ[T-1])\n",
    "#     print(I)\n",
    "    for t in range(T - 2,-1,-1):\n",
    "        I[t] = ψ[t+1][int(I[t+1])]\n",
    "#         print(I)\n",
    "    I = I + 1\n",
    "    return I"
   ]
  },
  {
   "cell_type": "code",
   "execution_count": 4,
   "metadata": {},
   "outputs": [],
   "source": [
    "# A 状态转移矩阵，B 观测概率矩阵，π；初始矩阵\n",
    "A = np.array([\n",
    "    [0.5,0.2,0.3],\n",
    "    [0.3,0.5,0.2],\n",
    "    [0.2,0.3,0.5]\n",
    "])\n",
    "B = np.array([\n",
    "    [0.5,0.5],\n",
    "    [0.4,0.6],\n",
    "    [0.7,0.3]\n",
    "])\n",
    "π = np.array([\n",
    "    0.2,0.4,0.4\n",
    "])\n",
    "O = np.array([0,1,0])"
   ]
  },
  {
   "cell_type": "code",
   "execution_count": 5,
   "metadata": {},
   "outputs": [
    {
     "data": {
      "text/plain": [
       "array([3., 2., 2., 2.])"
      ]
     },
     "execution_count": 5,
     "metadata": {},
     "output_type": "execute_result"
    }
   ],
   "source": [
    "viterbi(A,B,π,O= np.array([0,1,0,1]))"
   ]
  },
  {
   "cell_type": "code",
   "execution_count": 6,
   "metadata": {},
   "outputs": [
    {
     "name": "stdout",
     "output_type": "stream",
     "text": [
      "alpha: [0.1  0.16 0.28]\n",
      "alpha: [0.077, 0.1104, 0.060599999999999994]\n",
      "alpha: [0.04186999999999999, 0.035512, 0.052835999999999994]\n"
     ]
    },
    {
     "data": {
      "text/plain": [
       "0.130218"
      ]
     },
     "execution_count": 6,
     "metadata": {},
     "output_type": "execute_result"
    }
   ],
   "source": [
    "forward(A,B,π,O)"
   ]
  }
 ],
 "metadata": {
  "kernelspec": {
   "display_name": "Python 3",
   "language": "python",
   "name": "python3"
  },
  "language_info": {
   "codemirror_mode": {
    "name": "ipython",
    "version": 3
   },
   "file_extension": ".py",
   "mimetype": "text/x-python",
   "name": "python",
   "nbconvert_exporter": "python",
   "pygments_lexer": "ipython3",
   "version": "3.7.2"
  }
 },
 "nbformat": 4,
 "nbformat_minor": 4
}
