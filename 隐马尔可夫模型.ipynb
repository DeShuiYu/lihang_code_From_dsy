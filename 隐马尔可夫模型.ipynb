{
 "cells": [
  {
   "cell_type": "markdown",
   "metadata": {},
   "source": [
    "## 隐马尔可夫模型\n",
    "***\n",
    "***\n",
    "Time: 2020-09-12<br>\n",
    "Author: dsy\n",
    "***"
   ]
  },
  {
   "cell_type": "code",
   "execution_count": 10,
   "metadata": {},
   "outputs": [],
   "source": [
    "import numpy as np"
   ]
  },
  {
   "cell_type": "code",
   "execution_count": null,
   "metadata": {},
   "outputs": [],
   "source": [
    "# 前向算法\n",
    "def forward(self, Q, V, A, B, O, PI):\n",
    "    # 状态序列的大小\n",
    "    N = len(Q)\n",
    "    # 观测序列的大小\n",
    "    M = len(O)\n",
    "    # 初始化前向概率alpha值\n",
    "    alphas = np.zeros((N, M))\n",
    "    # 时刻数=观测序列数\n",
    "    T = M\n",
    "    # 遍历每一个时刻，计算前向概率alpha值\n",
    "    for t in range(T):\n",
    "        # 得到序列对应的索引\n",
    "        indexOfO = V.index(O[t])\n",
    "        # 遍历状态序列\n",
    "        for i in range(N):\n",
    "            # 初始化alpha初值\n",
    "            if t == 0:\n",
    "                # P176 公式(10.15)\n",
    "                alphas[i][t] = PI[t][i] * B[i][indexOfO]\n",
    "                print('alpha1(%d) = p%db%db(o1) = %f' %\n",
    "                      (i + 1, i, i, alphas[i][t]))\n",
    "            else:\n",
    "                # P176 公式(10.16)\n",
    "                alphas[i][t] = np.dot([alpha[t - 1] for alpha in alphas],\n",
    "                                      [a[i] for a in A]) * B[i][indexOfO]\n",
    "                print('alpha%d(%d) = [sigma alpha%d(i)ai%d]b%d(o%d) = %f' %\n",
    "                      (t + 1, i + 1, t - 1, i, i, t, alphas[i][t]))\n",
    "    # P176 公式(10.17)\n",
    "    self.forward_P = np.sum([alpha[M - 1] for alpha in alphas])\n",
    "    self.alphas = alphas"
   ]
  },
  {
   "cell_type": "code",
   "execution_count": null,
   "metadata": {},
   "outputs": [],
   "source": [
    "# 后向算法\n",
    "def backward(self, Q, V, A, B, O, PI):\n",
    "    # 状态序列的大小\n",
    "    N = len(Q)\n",
    "    # 观测序列的大小\n",
    "    M = len(O)\n",
    "    # 初始化后向概率beta值，P178 公式(10.19)\n",
    "    betas = np.ones((N, M))\n",
    "    #\n",
    "    for i in range(N):\n",
    "        print('beta%d(%d) = 1' % (M, i + 1))\n",
    "    # 对观测序列逆向遍历\n",
    "    for t in range(M - 2, -1, -1):\n",
    "        # 得到序列对应的索引\n",
    "        indexOfO = V.index(O[t + 1])\n",
    "        # 遍历状态序列\n",
    "        for i in range(N):\n",
    "            # P178 公式(10.20)\n",
    "            betas[i][t] = np.dot(\n",
    "                np.multiply(A[i], [b[indexOfO] for b in B]),\n",
    "                [beta[t + 1] for beta in betas])\n",
    "            realT = t + 1\n",
    "            realI = i + 1\n",
    "            print('beta%d(%d) = sigma[a%djbj(o%d)beta%d(j)] = (' %\n",
    "                  (realT, realI, realI, realT + 1, realT + 1),\n",
    "                  end='')\n",
    "            for j in range(N):\n",
    "                print(\"%.2f * %.2f * %.2f + \" %\n",
    "                      (A[i][j], B[j][indexOfO], betas[j][t + 1]),\n",
    "                      end='')\n",
    "            print(\"0) = %.3f\" % betas[i][t])\n",
    "    # 取出第一个值\n",
    "    indexOfO = V.index(O[0])\n",
    "    self.betas = betas\n",
    "    # P178 公式(10.21)\n",
    "    P = np.dot(np.multiply(PI, [b[indexOfO] for b in B]),\n",
    "               [beta[0] for beta in betas])\n",
    "    self.backward_P = P\n",
    "    print(\"P(O|lambda) = \", end=\"\")\n",
    "    for i in range(N):\n",
    "        print(\"%.1f * %.1f * %.5f + \" %\n",
    "              (PI[0][i], B[i][indexOfO], betas[i][0]),\n",
    "              end=\"\")\n",
    "    print(\"0 = %f\" % P)"
   ]
  },
  {
   "cell_type": "code",
   "execution_count": null,
   "metadata": {},
   "outputs": [],
   "source": [
    "# 维特比算法\n",
    "def viterbi(self, Q, V, A, B, O, PI):\n",
    "    # 状态序列的大小\n",
    "    N = len(Q)\n",
    "    # 观测序列的大小\n",
    "    M = len(O)\n",
    "    # 初始化daltas\n",
    "    deltas = np.zeros((N, M))\n",
    "    # 初始化psis\n",
    "    psis = np.zeros((N, M))\n",
    "    # 初始化最优路径矩阵，该矩阵维度与观测序列维度相同\n",
    "    I = np.zeros((1, M))\n",
    "    # 遍历观测序列\n",
    "    for t in range(M):\n",
    "        # 递推从t=2开始\n",
    "        realT = t + 1\n",
    "        # 得到序列对应的索引\n",
    "        indexOfO = V.index(O[t])\n",
    "        for i in range(N):\n",
    "            realI = i + 1\n",
    "            if t == 0:\n",
    "                # P185 算法10.5 步骤(1)\n",
    "                deltas[i][t] = PI[0][i] * B[i][indexOfO]\n",
    "                psis[i][t] = 0\n",
    "                print('delta1(%d) = pi%d * b%d(o1) = %.2f * %.2f = %.2f' %\n",
    "                      (realI, realI, realI, PI[0][i], B[i][indexOfO],\n",
    "                       deltas[i][t]))\n",
    "                print('psis1(%d) = 0' % (realI))\n",
    "            else:\n",
    "                # # P185 算法10.5 步骤(2)\n",
    "                deltas[i][t] = np.max(\n",
    "                    np.multiply([delta[t - 1] for delta in deltas],\n",
    "                                [a[i] for a in A])) * B[i][indexOfO]\n",
    "                print(\n",
    "                    'delta%d(%d) = max[delta%d(j)aj%d]b%d(o%d) = %.2f * %.2f = %.5f'\n",
    "                    % (realT, realI, realT - 1, realI, realI, realT,\n",
    "                       np.max(\n",
    "                           np.multiply([delta[t - 1] for delta in deltas],\n",
    "                                       [a[i] for a in A])), B[i][indexOfO],\n",
    "                       deltas[i][t]))\n",
    "                psis[i][t] = np.argmax(\n",
    "                    np.multiply([delta[t - 1] for delta in deltas],\n",
    "                                [a[i] for a in A]))\n",
    "                print('psis%d(%d) = argmax[delta%d(j)aj%d] = %d' %\n",
    "                      (realT, realI, realT - 1, realI, psis[i][t]))\n",
    "    #print(deltas)\n",
    "    #print(psis)\n",
    "    # 得到最优路径的终结点\n",
    "    I[0][M - 1] = np.argmax([delta[M - 1] for delta in deltas])\n",
    "    print('i%d = argmax[deltaT(i)] = %d' % (M, I[0][M - 1] + 1))\n",
    "    # 递归由后向前得到其他结点\n",
    "    for t in range(M - 2, -1, -1):\n",
    "        I[0][t] = psis[int(I[0][t + 1])][t + 1]\n",
    "        print('i%d = psis%d(i%d) = %d' %\n",
    "              (t + 1, t + 2, t + 2, I[0][t] + 1))\n",
    "    # 输出最优路径\n",
    "    print('最优路径是：', \"->\".join([str(int(i + 1)) for i in I[0]]))"
   ]
  },
  {
   "cell_type": "code",
   "execution_count": 1,
   "metadata": {},
   "outputs": [],
   "source": [
    "def HMM():\n",
    "    pass"
   ]
  },
  {
   "cell_type": "code",
   "execution_count": 16,
   "metadata": {},
   "outputs": [],
   "source": [
    "# A 状态转移矩阵，B 观测概率矩阵，π；初始矩阵\n",
    "A = np.array([\n",
    "    [0.5,0.2,0.3],\n",
    "    [0.3,0.5,0.2],\n",
    "    [0.2,0.3,0.5]\n",
    "])\n",
    "B = np.array([\n",
    "    [0.5,0.5],\n",
    "    [0.4,0.6],\n",
    "    [0.7,0.3]\n",
    "])\n",
    "π = np.array([\n",
    "    [0.2],\n",
    "    [0.4],\n",
    "    [0.4]\n",
    "])\n",
    "O = np.array([0,1,0])"
   ]
  },
  {
   "cell_type": "code",
   "execution_count": 42,
   "metadata": {},
   "outputs": [],
   "source": [
    "def forward(A,B,π,O):\n",
    "    alpha = np.array([π[i][0] * B[i][O[0]] for i in range(len(A))])\n",
    "    for o in O[1:]:\n",
    "        alpha = [sum([alpha[k] * A[k][i] for k in range(len(A))]) * B[i][o] for i in range(len(A))]\n",
    "#         print(alpha)\n",
    "        \n",
    "    return sum(alpha)"
   ]
  },
  {
   "cell_type": "code",
   "execution_count": 43,
   "metadata": {},
   "outputs": [
    {
     "data": {
      "text/plain": [
       "array([0.1 , 0.16, 0.28])"
      ]
     },
     "execution_count": 43,
     "metadata": {},
     "output_type": "execute_result"
    }
   ],
   "source": [
    "alpha = np.array([π[i][0] * B[i][O[0]] for i in range(len(A))])\n",
    "alpha"
   ]
  },
  {
   "cell_type": "code",
   "execution_count": 44,
   "metadata": {},
   "outputs": [
    {
     "data": {
      "text/plain": [
       "array([1, 0])"
      ]
     },
     "execution_count": 44,
     "metadata": {},
     "output_type": "execute_result"
    }
   ],
   "source": [
    "O[1:]"
   ]
  },
  {
   "cell_type": "code",
   "execution_count": 45,
   "metadata": {},
   "outputs": [
    {
     "data": {
      "text/plain": [
       "0.130218"
      ]
     },
     "execution_count": 45,
     "metadata": {},
     "output_type": "execute_result"
    }
   ],
   "source": [
    "forward(A,B,π,O)"
   ]
  },
  {
   "cell_type": "code",
   "execution_count": null,
   "metadata": {},
   "outputs": [],
   "source": []
  }
 ],
 "metadata": {
  "kernelspec": {
   "display_name": "Python 3",
   "language": "python",
   "name": "python3"
  },
  "language_info": {
   "codemirror_mode": {
    "name": "ipython",
    "version": 3
   },
   "file_extension": ".py",
   "mimetype": "text/x-python",
   "name": "python",
   "nbconvert_exporter": "python",
   "pygments_lexer": "ipython3",
   "version": "3.7.2"
  }
 },
 "nbformat": 4,
 "nbformat_minor": 4
}
