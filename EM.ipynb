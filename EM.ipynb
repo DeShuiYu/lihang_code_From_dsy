{
 "cells": [
  {
   "cell_type": "markdown",
   "metadata": {},
   "source": [
    "## EM\n",
    "***\n",
    "***\n",
    "Time: 2020-09-11<br>\n",
    "Author: dsy\n",
    "***"
   ]
  },
  {
   "cell_type": "code",
   "execution_count": 5,
   "metadata": {},
   "outputs": [],
   "source": [
    "import math\n",
    "def EM(Π,p,q,data):\n",
    "    '''\n",
    "    params:\n",
    "        Π ： A的概率\n",
    "        p ： B的概率\n",
    "        q ： C的概率\n",
    "        data: 观测数据\n",
    "    return:\n",
    "        Π,p,q\n",
    "    '''\n",
    "    # E Step\n",
    "    def μ(i,A,B,C):\n",
    "        return A * math.pow(B,data[i]) * math.pow(1-B,1 - data[i]) / (A * math.pow(B,data[i]) * math.pow(1-B,1 - data[i]) + (1 - A) * math.pow(C,data[i]) * math.pow(1-C,1 - data[i]))\n",
    "    \n",
    "    n = len(data)\n",
    "    # M Step\n",
    "    for i in range(n):\n",
    "        Π = 1./n * sum([μ(i,Π,p,q) for k in range(n)])\n",
    "        \n",
    "        p = sum([μ(i,Π,p,q) * data[k] for k in range(n)]) / sum([μ(i,Π,p,q) for k in range(n)])\n",
    "        \n",
    "        q =  sum([(1 - μ(i,Π,p,q)) * data[k] for k in range(n)]) / sum([(1 - μ(i,Π,p,q)) for k in range(n)])\n",
    "        \n",
    "        print(\"迭代了\",i+1,\"次的\",\"Π=%.3f ,p=%.3f ,q=%.3f\" % (Π,p,q))\n",
    "    \n",
    "    return (Π,p,q)"
   ]
  },
  {
   "cell_type": "code",
   "execution_count": 4,
   "metadata": {},
   "outputs": [
    {
     "name": "stdout",
     "output_type": "stream",
     "text": [
      "迭代了 1 次的 Π=0.500 ,p=0.600 ,q=0.600\n",
      "迭代了 2 次的 Π=0.500 ,p=0.600 ,q=0.600\n",
      "迭代了 3 次的 Π=0.500 ,p=0.600 ,q=0.600\n",
      "迭代了 4 次的 Π=0.500 ,p=0.600 ,q=0.600\n",
      "迭代了 5 次的 Π=0.500 ,p=0.600 ,q=0.600\n",
      "迭代了 6 次的 Π=0.500 ,p=0.600 ,q=0.600\n",
      "迭代了 7 次的 Π=0.500 ,p=0.600 ,q=0.600\n",
      "迭代了 8 次的 Π=0.500 ,p=0.600 ,q=0.600\n",
      "迭代了 9 次的 Π=0.500 ,p=0.600 ,q=0.600\n",
      "迭代了 10 次的 Π=0.500 ,p=0.600 ,q=0.600\n"
     ]
    },
    {
     "data": {
      "text/plain": [
       "(0.5000000000000001, 0.6, 0.6)"
      ]
     },
     "execution_count": 4,
     "metadata": {},
     "output_type": "execute_result"
    }
   ],
   "source": [
    "EM(0.5,0.5,0.5,[1,1,0,1,0,0,1,0,1,1])"
   ]
  }
 ],
 "metadata": {
  "kernelspec": {
   "display_name": "Python 3",
   "language": "python",
   "name": "python3"
  },
  "language_info": {
   "codemirror_mode": {
    "name": "ipython",
    "version": 3
   },
   "file_extension": ".py",
   "mimetype": "text/x-python",
   "name": "python",
   "nbconvert_exporter": "python",
   "pygments_lexer": "ipython3",
   "version": "3.7.2"
  }
 },
 "nbformat": 4,
 "nbformat_minor": 4
}
