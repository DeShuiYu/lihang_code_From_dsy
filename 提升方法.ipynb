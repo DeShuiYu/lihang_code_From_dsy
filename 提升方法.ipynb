{
 "cells": [
  {
   "cell_type": "markdown",
   "metadata": {},
   "source": [
    "## 提升方法\n",
    "***\n",
    "***\n",
    "Time: 2020-09-12<br>\n",
    "Author: dsy\n",
    "***"
   ]
  },
  {
   "cell_type": "code",
   "execution_count": 1,
   "metadata": {},
   "outputs": [],
   "source": [
    "import numpy as np"
   ]
  },
  {
   "cell_type": "code",
   "execution_count": 2,
   "metadata": {},
   "outputs": [],
   "source": [
    "def AdaBoost(X,Y,V):\n",
    "    def GM(x,v):\n",
    "        return 1 if x < v else -1\n",
    "\n",
    "    \n",
    "    def I(g,y):\n",
    "        return 1 if g != y else 0\n",
    "    \n",
    "    \n",
    "    N = len(X)\n",
    "    D = np.array([1./ N for i in range(N)])\n",
    "    alpha = []\n",
    "    for v in V:\n",
    "        em = sum([D[i] * I(GM(X[i],v),Y[i]) for i in range(N)])\n",
    "        \n",
    "#         print([GM(X[i],v)  for i in range(N)])\n",
    "#         print([Y[i] for i in range(N)])\n",
    "#         print([D[i] * I(GM(X[i],v),Y[i]) for i in range(N)])\n",
    "        \n",
    "        am = 0.5 * np.log((1-em)/em)\n",
    "        zm = sum([D[i] * np.exp(- am * Y[i] * GM(X[i],v)) for i in range(N)])\n",
    "        D = [ D[i]/zm * np.exp(- am * Y[i] * GM(X[i],v))  for i in range(N)]\n",
    "        alpha.append([am,v])\n",
    "        \n",
    "#         print(\"em:\",em,\"am:\",am,\"D:\",D,\"\\n\",\"==\"*30)\n",
    "    return alpha\n",
    "        "
   ]
  },
  {
   "cell_type": "code",
   "execution_count": 3,
   "metadata": {},
   "outputs": [],
   "source": [
    "X = np.array([\n",
    "    0,1,2,3,4,5,6,7,8,9\n",
    "])\n",
    "Y = np.array([\n",
    "    1,1,1,-1,-1,-1,1,1,1,-1\n",
    "])"
   ]
  },
  {
   "cell_type": "code",
   "execution_count": 4,
   "metadata": {},
   "outputs": [
    {
     "data": {
      "text/plain": [
       "array([0, 1, 2, 3, 4, 5, 6, 7, 8, 9])"
      ]
     },
     "execution_count": 4,
     "metadata": {},
     "output_type": "execute_result"
    }
   ],
   "source": [
    "X"
   ]
  },
  {
   "cell_type": "code",
   "execution_count": 5,
   "metadata": {},
   "outputs": [
    {
     "data": {
      "text/plain": [
       "array([ 1,  1,  1, -1, -1, -1,  1,  1,  1, -1])"
      ]
     },
     "execution_count": 5,
     "metadata": {},
     "output_type": "execute_result"
    }
   ],
   "source": [
    "Y"
   ]
  },
  {
   "cell_type": "code",
   "execution_count": 6,
   "metadata": {},
   "outputs": [
    {
     "data": {
      "text/plain": [
       "array([2.5, 8.5, 5.5])"
      ]
     },
     "execution_count": 6,
     "metadata": {},
     "output_type": "execute_result"
    }
   ],
   "source": [
    "V = np.array([2.5, 8.5, 5.5])\n",
    "V"
   ]
  },
  {
   "cell_type": "code",
   "execution_count": 7,
   "metadata": {},
   "outputs": [
    {
     "data": {
      "text/plain": [
       "[[0.4236489301936017, 2.5],\n",
       " [0.6496414920651304, 8.5],\n",
       " [-0.7520386983881375, 5.5]]"
      ]
     },
     "execution_count": 7,
     "metadata": {},
     "output_type": "execute_result"
    }
   ],
   "source": [
    "AdaBoost(X,Y,V)"
   ]
  }
 ],
 "metadata": {
  "kernelspec": {
   "display_name": "Python 3",
   "language": "python",
   "name": "python3"
  },
  "language_info": {
   "codemirror_mode": {
    "name": "ipython",
    "version": 3
   },
   "file_extension": ".py",
   "mimetype": "text/x-python",
   "name": "python",
   "nbconvert_exporter": "python",
   "pygments_lexer": "ipython3",
   "version": "3.7.2"
  }
 },
 "nbformat": 4,
 "nbformat_minor": 4
}
