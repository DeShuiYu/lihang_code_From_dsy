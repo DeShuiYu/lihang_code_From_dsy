{
 "cells": [
  {
   "cell_type": "markdown",
   "metadata": {},
   "source": [
    "## 逻辑斯蒂回归\n",
    "***\n",
    "***\n",
    "Time: 2020-09-10<br>\n",
    "Author: dsy\n",
    "***"
   ]
  },
  {
   "cell_type": "code",
   "execution_count": 1,
   "metadata": {},
   "outputs": [],
   "source": [
    "import numpy as np\n",
    "def LogisticRegression(x,y,lr=0.01,iters=200):\n",
    "    w = np.zeros((len(x[0]),))\n",
    "    for each in range(iters):\n",
    "        for i in range(len(x)):\n",
    "            w += lr * ( y[i] - 1./ (1 + np.exp(-w.dot(x[i].T)))  ) * x[i]\n",
    "            \n",
    "    return w"
   ]
  }
 ],
 "metadata": {
  "kernelspec": {
   "display_name": "Python 3",
   "language": "python",
   "name": "python3"
  },
  "language_info": {
   "codemirror_mode": {
    "name": "ipython",
    "version": 3
   },
   "file_extension": ".py",
   "mimetype": "text/x-python",
   "name": "python",
   "nbconvert_exporter": "python",
   "pygments_lexer": "ipython3",
   "version": "3.7.2"
  }
 },
 "nbformat": 4,
 "nbformat_minor": 4
}
