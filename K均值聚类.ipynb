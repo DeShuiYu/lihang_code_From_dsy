{
 "cells": [
  {
   "cell_type": "markdown",
   "metadata": {},
   "source": [
    "## K均值聚类\n",
    "***\n",
    "***\n",
    "Time: 2020-09-10<br>\n",
    "Author: dsy\n",
    "***"
   ]
  },
  {
   "cell_type": "code",
   "execution_count": 1,
   "metadata": {},
   "outputs": [],
   "source": [
    "import numpy as np"
   ]
  },
  {
   "cell_type": "code",
   "execution_count": 137,
   "metadata": {},
   "outputs": [],
   "source": [
    "def KMeans(x,k=2,iters=100):\n",
    "    def dist(xi1,xi2,p=2):\n",
    "        return np.power(np.sum(np.power(xi1 - xi2,p)),1./p)\n",
    "    m = x[:k]\n",
    "    G = None\n",
    "    \n",
    "    for each in range(1):\n",
    "        G = [[] for i in range(k)] # 不能使用[[]] * k\n",
    "        for i in range(len(x)):\n",
    "            distList = np.array([dist(m[j],x[i]) for j in range(k)])\n",
    "#             print(x[i],distList,distList.argmin())\n",
    "#             print(distList.argmin())\n",
    "            G[distList.argmin()].append(x[i].tolist())\n",
    "#             print(\"G[distList.argmin()]\",distList.argmin(),G[distList.argmin()],\"-->\",G)\n",
    "        G = np.array([ np.array(G[j],dtype=np.float32) for j in range(len(G))],dtype=object)\n",
    "        m =[ G[j].mean(axis=0) for j in range(len(G))]\n",
    "#         print(G)\n",
    "    return np.array(G)\n",
    "        \n",
    "    "
   ]
  },
  {
   "cell_type": "code",
   "execution_count": 138,
   "metadata": {},
   "outputs": [],
   "source": [
    "X = np.array([\n",
    "    [0,2],\n",
    "    [0,0],\n",
    "    [1,0],\n",
    "    [5,0],\n",
    "    [5,2]\n",
    "])"
   ]
  },
  {
   "cell_type": "code",
   "execution_count": 139,
   "metadata": {},
   "outputs": [
    {
     "data": {
      "text/plain": [
       "array([array([[0., 2.],\n",
       "       [5., 2.]], dtype=float32),\n",
       "       array([[0., 0.],\n",
       "       [1., 0.],\n",
       "       [5., 0.]], dtype=float32)], dtype=object)"
      ]
     },
     "execution_count": 139,
     "metadata": {},
     "output_type": "execute_result"
    }
   ],
   "source": [
    "KMeans(X)"
   ]
  },
  {
   "cell_type": "code",
   "execution_count": null,
   "metadata": {},
   "outputs": [],
   "source": []
  }
 ],
 "metadata": {
  "kernelspec": {
   "display_name": "Python 3",
   "language": "python",
   "name": "python3"
  },
  "language_info": {
   "codemirror_mode": {
    "name": "ipython",
    "version": 3
   },
   "file_extension": ".py",
   "mimetype": "text/x-python",
   "name": "python",
   "nbconvert_exporter": "python",
   "pygments_lexer": "ipython3",
   "version": "3.7.2"
  }
 },
 "nbformat": 4,
 "nbformat_minor": 4
}
