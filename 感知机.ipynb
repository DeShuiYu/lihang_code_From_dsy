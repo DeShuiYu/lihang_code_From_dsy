{
 "cells": [
  {
   "cell_type": "markdown",
   "metadata": {},
   "source": [
    "## 感知机\n",
    "***\n",
    "***\n",
    "Time: 2020-09-10<br>\n",
    "Author: dsy\n",
    "***"
   ]
  },
  {
   "cell_type": "code",
   "execution_count": 6,
   "metadata": {},
   "outputs": [],
   "source": [
    "def perceptron(x,y,lr=0.1):\n",
    "    w = np.ones((len(x[0]),),dtype=np.float32)\n",
    "    b = 0.\n",
    "    is_wrong = True\n",
    "    while is_wrong:\n",
    "        wrongCount = 0\n",
    "        for i in range(len(x)):\n",
    "            if np.sign(y[i] * (w.dot(x[i].T)+b)) <= 0:\n",
    "                w += lr * y[i] * x[i]\n",
    "                b += lr * y[i]\n",
    "                wrongCount += 1\n",
    "        if wrongCount == 0:\n",
    "            break\n",
    "        \n",
    "    return w,b"
   ]
  }
 ],
 "metadata": {
  "kernelspec": {
   "display_name": "Python 3",
   "language": "python",
   "name": "python3"
  },
  "language_info": {
   "codemirror_mode": {
    "name": "ipython",
    "version": 3
   },
   "file_extension": ".py",
   "mimetype": "text/x-python",
   "name": "python",
   "nbconvert_exporter": "python",
   "pygments_lexer": "ipython3",
   "version": "3.7.2"
  }
 },
 "nbformat": 4,
 "nbformat_minor": 4
}
